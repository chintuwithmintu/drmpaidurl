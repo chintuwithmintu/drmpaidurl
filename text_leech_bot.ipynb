@@ -25,7 +25,7 @@
        "colab_type": "text"
      },
      "source": [
        "<a href=\"https://colab.research.google.com/github/AshutoshGoswami24/text-leech-bot/blob/main/text_leech_bot.ipynb\" target=\"_parent\"><img src=\"https://colab.research.google.com/assets/colab-badge.svg\" alt=\"Open In Colab\"/></a>"
        "<a href=\"https://colab.research.google.com/github/KUSHOFFICIAL7/drm_paid_url/blob/main/text_leech_bot.ipynb\" target=\"_parent\"><img src=\"https://colab.research.google.com/assets/colab-badge.svg\" alt=\"Open In Colab\"/></a>"
      ]
    },
    {
